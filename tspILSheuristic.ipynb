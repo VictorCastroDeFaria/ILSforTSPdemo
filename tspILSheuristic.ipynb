{
 "cells": [
  {
   "cell_type": "markdown",
   "metadata": {},
   "source": [
    "## Implementação de funções auxiliares e importação de bibliotecas importantes"
   ]
  },
  {
   "cell_type": "code",
   "execution_count": 240,
   "metadata": {},
   "outputs": [],
   "source": [
    "from random import randint, seed\n",
    "seed(17)\n",
    "\n",
    "# Função de cálculo da distância de uma lista de sequências de viagens a visitar\n",
    "def calc_tour_length(solution, distance_matrix):\n",
    "    if len(solution) == 0:\n",
    "        return 0\n",
    "    if len(solution) == 1:\n",
    "        return distance_matrix[0][solution[0]-1] + distance_matrix[solution[0]-1][0]\n",
    "    start_index = solution[0]\n",
    "    end_index = solution[-1]\n",
    "    total = distance_matrix[0][start_index-1] + distance_matrix[end_index-1][0]\n",
    "    for i in range(1, len(solution)):\n",
    "        total += distance_matrix[solution[i-1]-1][solution[i]-1]\n",
    "    return total\n",
    "\n",
    "# Função de busca local com a heurística 2-opt \n",
    "def local_search_two_opt(solution,obj_function,distance_matrix):\n",
    "    sol_copy = solution.copy()\n",
    "    obj_function_copy = obj_function \n",
    "    route = sol_copy\n",
    "    obj_function_route = obj_function\n",
    "    size_of_route = len(route)\n",
    "    if size_of_route > 2:\n",
    "        for point_a in range(size_of_route - 2):\n",
    "            for point_b in range(point_a+2,size_of_route):\n",
    "                new_sol, new_obj_function = two_opt_intraroute(route,point_a,point_b,obj_function_route,distance_matrix)\n",
    "\n",
    "                if new_obj_function < obj_function:\n",
    "                    return new_sol, new_obj_function\n",
    "                sol_copy = solution.copy()\n",
    "    return solution, obj_function\n",
    "\n",
    "# Função de modificação determinística de uma solução pela heurística 2-opt\n",
    "def two_opt_intraroute(route_vector,point_a,point_b,obj_function, distance_matrix):\n",
    "    #point_a, point_b = min([point_a, point_b]), max([point_a, point_b])\n",
    "    new_vector = [1] + route_vector[:point_a] + route_vector[point_a:point_b][::-1] + route_vector[point_b:] + [1]\n",
    "    point_a += 1\n",
    "    point_b += 1\n",
    "    obj_function = obj_function - distance_matrix[new_vector[point_a-1]-1][new_vector[point_b-1]-1] \n",
    "    obj_function = obj_function - distance_matrix[new_vector[point_a]-1][new_vector[point_b]-1]\n",
    "    obj_function = obj_function + distance_matrix[new_vector[point_a-1]-1][new_vector[point_a]-1] \n",
    "    obj_function = obj_function + distance_matrix[new_vector[point_b-1]-1][new_vector[point_b]-1]\n",
    "    return new_vector[1:-1], obj_function\n"
   ]
  },
  {
   "cell_type": "markdown",
   "metadata": {},
   "source": [
    "### Definição dos dados do problema - Matriz de distâncias"
   ]
  },
  {
   "cell_type": "code",
   "execution_count": 241,
   "metadata": {},
   "outputs": [
    {
     "data": {
      "text/plain": [
       "[[0, 12, 3, 23, 1, 5, 32, 56],\n",
       " [12, 0, 9, 18, 3, 41, 45, 5],\n",
       " [3, 9, 0, 89, 56, 21, 12, 49],\n",
       " [23, 18, 89, 0, 87, 46, 75, 17],\n",
       " [1, 3, 56, 87, 0, 55, 22, 86],\n",
       " [5, 41, 21, 46, 55, 0, 21, 76],\n",
       " [32, 45, 12, 75, 22, 21, 0, 11],\n",
       " [56, 5, 49, 17, 86, 76, 11, 0]]"
      ]
     },
     "execution_count": 241,
     "metadata": {},
     "output_type": "execute_result"
    }
   ],
   "source": [
    "matrix = [[0, 12, 3, 23, 1, 5, 32, 56],\n",
    "        [12, 0, 9, 18, 3, 41, 45, 5],\n",
    "        [3, 9, 0, 89, 56, 21, 12, 49],\n",
    "        [23, 18, 89, 0, 87, 46, 75, 17],\n",
    "        [1, 3, 56, 87, 0, 55, 22, 86],\n",
    "        [5, 41, 21, 46, 55, 0, 21, 76],\n",
    "        [32, 45, 12, 75, 22, 21, 0, 11],\n",
    "        [56, 5, 49, 17, 86, 76, 11, 0]]\n",
    "\n",
    "matrix"
   ]
  },
  {
   "cell_type": "code",
   "execution_count": 242,
   "metadata": {},
   "outputs": [],
   "source": [
    "def is_symmetric(matrix):\n",
    "    length = len(matrix)\n",
    "    for index_1 in range(length-1):\n",
    "        for index_2 in range(index_1+1,length):\n",
    "            if matrix[index_1][index_2] != matrix[index_2][index_1]:\n",
    "                return False\n",
    "    return True\n",
    "\n",
    "def check_main_diagonal(matrix):\n",
    "    length = len(matrix)\n",
    "    for index in range(length):\n",
    "        if matrix[index][index] != 0:\n",
    "            return False\n",
    "    return True"
   ]
  },
  {
   "cell_type": "code",
   "execution_count": 243,
   "metadata": {},
   "outputs": [
    {
     "data": {
      "text/plain": [
       "(True, True)"
      ]
     },
     "execution_count": 243,
     "metadata": {},
     "output_type": "execute_result"
    }
   ],
   "source": [
    "is_symmetric(matrix), check_main_diagonal(matrix)"
   ]
  },
  {
   "cell_type": "markdown",
   "metadata": {},
   "source": [
    "### Definição dos dados do problema - conjunto de rotas iniciais para investigação"
   ]
  },
  {
   "cell_type": "code",
   "execution_count": 244,
   "metadata": {},
   "outputs": [],
   "source": [
    "list_of_routes = [[2,3,8,4,6,7,5],\n",
    "[8,2,3,4,6,7,5],\n",
    "[4,2,8,3,6,7,5],\n",
    "[6,2,8,4,3,7,5],\n",
    "[7,2,8,4,6,3,5],\n",
    "[5,2,8,4,6,7,3],\n",
    "[3,8,2,4,6,7,5],\n",
    "[3,4,8,2,6,7,5],\n",
    "[3,6,8,4,2,7,5]]"
   ]
  },
  {
   "cell_type": "code",
   "execution_count": 245,
   "metadata": {},
   "outputs": [
    {
     "name": "stdout",
     "output_type": "stream",
     "text": [
      "[2, 3, 8, 4, 6, 7, 5] 177\n",
      "[8, 2, 3, 4, 6, 7, 5] 249\n",
      "[4, 2, 8, 3, 6, 7, 5] 160\n",
      "[6, 2, 8, 4, 3, 7, 5] 192\n",
      "[7, 2, 8, 4, 6, 3, 5] 223\n",
      "[5, 2, 8, 4, 6, 7, 3] 108\n",
      "[3, 8, 2, 4, 6, 7, 5] 165\n",
      "[3, 4, 8, 2, 6, 7, 5] 199\n",
      "[3, 6, 8, 4, 2, 7, 5] 203\n"
     ]
    }
   ],
   "source": [
    "for route in list_of_routes:\n",
    "    print(route, calc_tour_length(route, matrix))"
   ]
  },
  {
   "cell_type": "markdown",
   "metadata": {},
   "source": [
    "#### Teste da vizinhança 2-opt e de funções de perturbação"
   ]
  },
  {
   "cell_type": "code",
   "execution_count": 246,
   "metadata": {},
   "outputs": [
    {
     "name": "stdout",
     "output_type": "stream",
     "text": [
      "[2, 3, 8, 4, 6, 7, 5] 177 ---after simple 2-opt local search--- [3, 2, 8, 4, 6, 7, 5] 124\n",
      "[8, 2, 3, 4, 6, 7, 5] 249 ---after simple 2-opt local search--- [2, 8, 3, 4, 6, 7, 5] 245\n",
      "[4, 2, 8, 3, 6, 7, 5] 160 ---after simple 2-opt local search--- [4, 8, 2, 3, 6, 7, 5] 119\n",
      "[6, 2, 8, 4, 3, 7, 5] 192 ---after simple 2-opt local search--- [4, 8, 2, 6, 3, 7, 5] 142\n",
      "[7, 2, 8, 4, 6, 3, 5] 223 ---after simple 2-opt local search--- [2, 7, 8, 4, 6, 3, 5] 209\n",
      "[5, 2, 8, 4, 6, 7, 3] 108 ---after simple 2-opt local search--- [5, 2, 8, 4, 6, 7, 3] 108\n",
      "[3, 8, 2, 4, 6, 7, 5] 165 ---after simple 2-opt local search--- [4, 2, 8, 3, 6, 7, 5] 160\n",
      "[3, 4, 8, 2, 6, 7, 5] 199 ---after simple 2-opt local search--- [2, 8, 4, 3, 6, 7, 5] 188\n",
      "[3, 6, 8, 4, 2, 7, 5] 203 ---after simple 2-opt local search--- [6, 3, 8, 4, 2, 7, 5] 178\n"
     ]
    }
   ],
   "source": [
    "for route in list_of_routes:\n",
    "    current_OF_value = calc_tour_length(route, matrix)\n",
    "    new_route, new_OF_value = local_search_two_opt(route,current_OF_value, matrix)\n",
    "    assert new_OF_value == calc_tour_length(new_route, matrix)\n",
    "    print(route,current_OF_value, '---after simple 2-opt local search---',new_route, new_OF_value)"
   ]
  },
  {
   "cell_type": "code",
   "execution_count": 247,
   "metadata": {},
   "outputs": [],
   "source": [
    "def swap_intraroute(route_vector,point_a,point_b,obj_function,distance_matrix):\n",
    "    new_vector = [1] + route_vector + [1]\n",
    "    point_a += 1\n",
    "    point_b += 1\n",
    "    # Retirada dos pesos das arestas do trajeto antes da mudança \n",
    "    obj_function = obj_function - distance_matrix[new_vector[point_a-1]-1][new_vector[point_a]-1] - distance_matrix[new_vector[point_a]-1][new_vector[point_a+1]-1]\n",
    "    obj_function = obj_function - distance_matrix[new_vector[point_b-1]-1][new_vector[point_b]-1] - distance_matrix[new_vector[point_b]-1][new_vector[point_b+1]-1]\n",
    "    # Movimento de mudança do trajeto\n",
    "    new_vector[point_a], new_vector[point_b] = new_vector[point_b], new_vector[point_a]\n",
    "    # Adição dos pesos das novas arestas após a mudança\n",
    "    obj_function = obj_function + distance_matrix[new_vector[point_a-1]-1][new_vector[point_a]-1] + distance_matrix[new_vector[point_a]-1][new_vector[point_a+1]-1]\n",
    "    obj_function = obj_function + distance_matrix[new_vector[point_b-1]-1][new_vector[point_b]-1] + distance_matrix[new_vector[point_b]-1][new_vector[point_b+1]-1]\n",
    "\n",
    "    return new_vector[1:-1], obj_function\n",
    "\n",
    "def generate_random_neighbor_swap_intraroute(solution,objective_function,distance_matrix):\n",
    "    pointA, pointB = 0, 0\n",
    "    while pointB == pointA:\n",
    "        pointA = randint(0,len(solution)-1)\n",
    "        pointB = randint(0,len(solution)-1)\n",
    "    solutions_neighbor, objective_function_neighbor = solution.copy(), objective_function\n",
    "    solutions_neighbor, objective_function_neighbor = swap_intraroute(solution,pointA,pointB,objective_function,distance_matrix)\n",
    "    return solutions_neighbor, objective_function_neighbor"
   ]
  },
  {
   "cell_type": "code",
   "execution_count": 248,
   "metadata": {},
   "outputs": [
    {
     "name": "stdout",
     "output_type": "stream",
     "text": [
      "[2, 3, 8, 6, 4, 7, 5] 290 True\n",
      "[8, 2, 5, 4, 6, 7, 3] 233 True\n",
      "[4, 5, 8, 3, 6, 7, 2] 344 True\n",
      "[6, 2, 8, 4, 7, 3, 5] 212 True\n",
      "[8, 2, 7, 4, 6, 3, 5] 305 True\n",
      "[2, 5, 8, 4, 6, 7, 3] 200 True\n",
      "[3, 8, 2, 5, 6, 7, 4] 234 True\n",
      "[3, 4, 8, 7, 6, 2, 5] 186 True\n",
      "[3, 6, 5, 4, 2, 7, 8] 296 True\n"
     ]
    }
   ],
   "source": [
    "for route in list_of_routes:\n",
    "    objective_function = calc_tour_length(route,matrix)\n",
    "    A, B = generate_random_neighbor_swap_intraroute(route,objective_function,matrix)\n",
    "    print(A,B,B == calc_tour_length(A,matrix))"
   ]
  },
  {
   "cell_type": "markdown",
   "metadata": {},
   "source": [
    "#### Funções para implementação da metaheurística ILS"
   ]
  },
  {
   "cell_type": "code",
   "execution_count": 249,
   "metadata": {},
   "outputs": [],
   "source": [
    "def localSearchProcedure(solution, obj_function, distance_matrix):\n",
    "    current_solution = solution.copy()\n",
    "    current_obj_function = obj_function\n",
    "    while True:\n",
    "        new_solution, new_obj_function = local_search_two_opt(current_solution,current_obj_function,distance_matrix)\n",
    "        if new_obj_function < current_obj_function:\n",
    "            current_solution, current_obj_function = new_solution, new_obj_function\n",
    "        else:\n",
    "            return new_solution, new_obj_function\n",
    "\n",
    "def perturbationProcedure(solution, obj_function, distance_matrix, degree_of_perturbation):\n",
    "    candidate_solution = solution.copy()\n",
    "    candidate_obj_function = obj_function\n",
    "    number_of_vertices = len(distance_matrix)\n",
    "    amount_of_perturbation = round(degree_of_perturbation*number_of_vertices)\n",
    "    for iteration in range(amount_of_perturbation):\n",
    "        candidate_solution, candidate_obj_function = generate_random_neighbor_swap_intraroute(candidate_solution,candidate_obj_function,distance_matrix)\n",
    "    return candidate_solution, candidate_obj_function"
   ]
  },
  {
   "cell_type": "code",
   "execution_count": 250,
   "metadata": {},
   "outputs": [],
   "source": [
    "def iteratedLocalSearch(solution, obj_function, distance_matrix, num_iterations = 100, perturbation_degree = 0.4):\n",
    "    iterations = 0\n",
    "    current_solution = solution.copy()\n",
    "    current_obj_function = obj_function\n",
    "\n",
    "    best_solution = solution.copy()\n",
    "    best_obj_function = obj_function\n",
    "    \n",
    "    while(iterations < num_iterations):\n",
    "        #Perturbação da solução\n",
    "        neighbor_solution, neighbor_obj_function = perturbationProcedure(current_solution,current_obj_function,distance_matrix, perturbation_degree)\n",
    "        \n",
    "        neighbor_solution, neighbor_obj_function = localSearchProcedure(neighbor_solution,neighbor_obj_function,distance_matrix)\n",
    "        \n",
    "        if neighbor_obj_function < 1.1*current_obj_function:\n",
    "            current_solution = neighbor_solution.copy()\n",
    "            current_obj_function = neighbor_obj_function\n",
    "            \n",
    "            if current_obj_function < best_obj_function:\n",
    "                best_obj_function = current_obj_function \n",
    "                best_solution = current_solution.copy()\n",
    "        iterations += 1\n",
    "\n",
    "    return best_solution, best_obj_function"
   ]
  },
  {
   "cell_type": "markdown",
   "metadata": {},
   "source": [
    "### Execução da metaheurística"
   ]
  },
  {
   "cell_type": "code",
   "execution_count": 251,
   "metadata": {},
   "outputs": [
    {
     "name": "stdout",
     "output_type": "stream",
     "text": [
      "[1, 2, 3, 8, 4, 6, 7, 5, 1] 177\n",
      "[1, 8, 2, 3, 4, 6, 7, 5, 1] 249\n",
      "[1, 4, 2, 8, 3, 6, 7, 5, 1] 160\n",
      "[1, 6, 2, 8, 4, 3, 7, 5, 1] 192\n",
      "[1, 7, 2, 8, 4, 6, 3, 5, 1] 223\n",
      "[1, 5, 2, 8, 4, 6, 7, 3, 1] 108\n",
      "[1, 3, 8, 2, 4, 6, 7, 5, 1] 165\n",
      "[1, 3, 4, 8, 2, 6, 7, 5, 1] 199\n",
      "[1, 3, 6, 8, 4, 2, 7, 5, 1] 203\n"
     ]
    }
   ],
   "source": [
    "for route in list_of_routes:\n",
    "    print([1] + route + [1], calc_tour_length(route, matrix))"
   ]
  },
  {
   "cell_type": "code",
   "execution_count": 252,
   "metadata": {},
   "outputs": [
    {
     "name": "stdout",
     "output_type": "stream",
     "text": [
      "[1, 5, 2, 4, 8, 7, 3, 6, 1] 88\n",
      "[1, 5, 2, 4, 8, 7, 3, 6, 1] 88\n",
      "[1, 5, 2, 4, 8, 7, 3, 6, 1] 88\n",
      "[1, 5, 2, 4, 8, 7, 3, 6, 1] 88\n",
      "[1, 5, 2, 4, 8, 7, 3, 6, 1] 88\n",
      "[1, 5, 2, 4, 8, 7, 3, 6, 1] 88\n",
      "[1, 5, 2, 4, 8, 7, 6, 3, 1] 95\n",
      "[1, 5, 2, 4, 8, 7, 3, 6, 1] 88\n",
      "[1, 6, 3, 7, 8, 4, 2, 5, 1] 88\n"
     ]
    }
   ],
   "source": [
    "for route in list_of_routes:\n",
    "    objective_function = calc_tour_length(route,matrix)\n",
    "    A, B = iteratedLocalSearch(route, objective_function, matrix, num_iterations = 10, perturbation_degree = 0.4)\n",
    "    print([1] + A + [1], B)"
   ]
  },
  {
   "cell_type": "markdown",
   "metadata": {},
   "source": [
    "#### Adendo: Implementação da resolução do TSP por *backtracking* e força bruta"
   ]
  },
  {
   "cell_type": "code",
   "execution_count": 253,
   "metadata": {},
   "outputs": [
    {
     "name": "stdout",
     "output_type": "stream",
     "text": [
      "[1, 2, 3, 4, 5, 6, 7, 8, 1]  340\n",
      "[1, 2, 3, 4, 5, 7, 8, 6, 1]  311\n",
      "[1, 2, 3, 4, 6, 5, 7, 8, 1]  300\n",
      "[1, 2, 3, 4, 6, 7, 8, 5, 1]  275\n",
      "[1, 2, 3, 4, 6, 8, 7, 5, 1]  266\n",
      "[1, 2, 3, 4, 8, 6, 7, 5, 1]  247\n",
      "[1, 2, 3, 4, 8, 7, 6, 5, 1]  215\n",
      "[1, 2, 3, 5, 6, 7, 8, 4, 1]  204\n",
      "[1, 2, 3, 5, 7, 8, 4, 6, 1]  178\n",
      "[1, 2, 3, 6, 5, 7, 8, 4, 1]  170\n",
      "[1, 2, 3, 6, 4, 8, 7, 5, 1]  139\n",
      "[1, 2, 5, 7, 8, 4, 6, 3, 1]  135\n",
      "[1, 3, 2, 5, 7, 8, 4, 6, 1]  116\n",
      "[1, 3, 6, 7, 5, 2, 8, 4, 1]  115\n",
      "[1, 3, 6, 7, 8, 4, 2, 5, 1]  95\n",
      "[1, 5, 2, 4, 8, 7, 3, 6, 1]  88\n",
      "\n",
      "Execution time:  0.32500171661376953  seconds\n"
     ]
    }
   ],
   "source": [
    "import time\n",
    "\n",
    "list_cities = []\n",
    "\n",
    "for item in range(len(matrix)):\n",
    "    list_cities.append(item)\n",
    "\n",
    "r = len(list_cities)\n",
    "minimum_path = float('inf')\n",
    "\n",
    "def display_array(array):\n",
    "    new_array = []\n",
    "    for item in array:\n",
    "        new_array.append(item+1)\n",
    "    return new_array\n",
    "\n",
    "def permute(array, start, finish):\n",
    "    global matrix, minimum_path\n",
    "    if start == finish: \n",
    "        array.append(array[0])\n",
    "        path_length = makeHamiltonianPath(matrix,array)\n",
    "        if path_length < minimum_path:\n",
    "            minimum_path = path_length\n",
    "            print(display_array(array), '', path_length)\n",
    "        array.pop()\n",
    "    else: \n",
    "        for i in range(start,finish+1): \n",
    "            array[start], array[i] = array[i], array[start] \n",
    "            permute(array, start+1, finish) \n",
    "            array[start], array[i] = array[i], array[start] # backtracking\n",
    "\n",
    "def makeHamiltonianPath(matrix,path):\n",
    "    path_length = 0\n",
    "    start_point = path[0]\n",
    "    for item in range (1,len(path)):\n",
    "        end_point = path[item]\n",
    "        path_length += matrix[start_point][end_point]\n",
    "        start_point = end_point\n",
    "    return path_length\n",
    "\n",
    "def main():\n",
    "    time1 = time.time()\n",
    "    permute(list_cities,0,r-1)\n",
    "    print(\"\")\n",
    "    time2 = time.time()\n",
    "    print(\"Execution time: \",time2-time1, \" seconds\")\n",
    "       \n",
    "main()"
   ]
  }
 ],
 "metadata": {
  "kernelspec": {
   "display_name": "Python 3.8.3 32-bit",
   "language": "python",
   "name": "python3"
  },
  "language_info": {
   "codemirror_mode": {
    "name": "ipython",
    "version": 3
   },
   "file_extension": ".py",
   "mimetype": "text/x-python",
   "name": "python",
   "nbconvert_exporter": "python",
   "pygments_lexer": "ipython3",
   "version": "3.8.3"
  },
  "orig_nbformat": 4,
  "vscode": {
   "interpreter": {
    "hash": "f9bc4b652b848242f69209cd0080417b2688107fd8dbea54d7ab4af63d585dd8"
   }
  }
 },
 "nbformat": 4,
 "nbformat_minor": 2
}
